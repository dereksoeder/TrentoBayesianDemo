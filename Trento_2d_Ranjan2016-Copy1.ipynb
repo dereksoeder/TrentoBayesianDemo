{
 "cells": [
  {
   "cell_type": "markdown",
   "id": "herbal-swimming",
   "metadata": {},
   "source": [
    "## Ranjan et al. 2016 Implementation \n",
    "https://github.com/EmuKit/emukit/blob/main/notebooks/Emukit-tutorial-Bayesian-optimization-introduction.ipynb"
   ]
  },
  {
   "cell_type": "code",
   "execution_count": 1,
   "id": "dietary-instruction",
   "metadata": {},
   "outputs": [],
   "source": [
    "#magic command to import TrentoWrapper classes and methods to this notebook.\n",
    "%run -i TrentoWrapper.ipynb"
   ]
  },
  {
   "cell_type": "markdown",
   "id": "parallel-judge",
   "metadata": {},
   "source": [
    "### Model parametrs of interest:\n",
    "    1. Normalization (N)\n",
    "    2. Trento_p (p)\n",
    "\n",
    "### Observables\n",
    "    1. Multiplicity [0-5]\n",
    "    2. e2 [0-5]\n",
    "\n"
   ]
  },
  {
   "cell_type": "code",
   "execution_count": 2,
   "id": "acoustic-alpha",
   "metadata": {},
   "outputs": [],
   "source": [
    "trento = TrentoWrapper(projectile=\"Pb\", target=\"Pb\", sqrts=2760., nevents=1000,\n",
    "                     norm=10., nucleon_width=1., num_constits=1, constit_width=None, trento_p=0., fluctuation=1.,\n",
    "                     grid_max=15., grid_step=0.1, random_seed=32,\n",
    "                     centrality_bins=[(0.00,0.05)],\n",
    "                     event_transform=lambda nev, b, npart, mult, e2, e3, e4, e5: (e2,),\n",
    "                     bin_transform=lambda events: np.mean(events, axis=0))\n",
    "\n",
    "    "
   ]
  },
  {
   "cell_type": "code",
   "execution_count": 3,
   "id": "judicial-advantage",
   "metadata": {},
   "outputs": [],
   "source": [
    "from joblib import Parallel, delayed, cpu_count\n"
   ]
  },
  {
   "cell_type": "code",
   "execution_count": 4,
   "id": "spoken-buying",
   "metadata": {},
   "outputs": [],
   "source": [
    "def simulation(N,p):\n",
    "    \"\"\"Run trento simulation for a design point\n",
    "    \n",
    "    Parameters\n",
    "    ---------\n",
    "    N (float): Normalization\n",
    "    p (float): Trento_p\n",
    "    \n",
    "    Returns\n",
    "    -------\n",
    "    numpy array with dimesnions (2,)\n",
    "        [multiplicity [0-5], e2 [0-5]]\n",
    "    \"\"\"\n",
    "    result = trento.run(norm=N, trento_p=p)\n",
    "    return result.ravel()"
   ]
  },
  {
   "cell_type": "code",
   "execution_count": 5,
   "id": "respective-venue",
   "metadata": {},
   "outputs": [
    {
     "name": "stdout",
     "output_type": "stream",
     "text": [
      "CPU times: user 15 ms, sys: 8.2 ms, total: 23.2 ms\n",
      "Wall time: 11.9 s\n"
     ]
    }
   ],
   "source": [
    "%%time\n",
    "ll = simulation(20,0)"
   ]
  },
  {
   "cell_type": "code",
   "execution_count": 6,
   "id": "romantic-visiting",
   "metadata": {},
   "outputs": [],
   "source": [
    "def simulation_parallel(design_matrix, n_process=cpu_count()):\n",
    "    \"\"\"Run trento simulation in parallel\n",
    "    \n",
    "    Parameters\n",
    "    ----------\n",
    "    \n",
    "    design_matrix (ndarray): (n_design, n_model_parameters)\n",
    "    n_process (int): number of processors to use\n",
    "    \n",
    "    Returns\n",
    "    -------\n",
    "    numpy array with dimensions (n_design, n_observables)\"\"\"\n",
    "    \n",
    "    observations = Parallel(n_jobs=n_process)(delayed(simulation)(*params) for ii, params in enumerate(design_matrix))\n",
    "    return np.array(observations)"
   ]
  },
  {
   "cell_type": "code",
   "execution_count": 7,
   "id": "labeled-lying",
   "metadata": {},
   "outputs": [],
   "source": [
    "import numpy as np\n",
    "true_param = np.array([20,0]).reshape(1,2)"
   ]
  },
  {
   "cell_type": "code",
   "execution_count": 8,
   "id": "shared-original",
   "metadata": {},
   "outputs": [],
   "source": [
    "import emcee\n",
    "from scipy.optimize import minimize\n",
    "import corner\n",
    "import ptemcee\n",
    "import subprocess\n",
    "import pandas as pd\n",
    "import matplotlib.pyplot as plt\n",
    "from emukit.core import ParameterSpace, ContinuousParameter\n",
    "from GPy.models import MultioutputGP\n",
    "from GPy import likelihoods\n",
    "from emukit.model_wrappers import GPyMultiOutputWrapper\n",
    "from GPy.kern import RBF, White\n",
    "from GPy.models import GPRegression\n",
    "from emukit.model_wrappers import GPyModelWrapper\n",
    "from GPy.models import GPRegression\n",
    "import GPy\n",
    "\n",
    "import random\n",
    "random.seed(1)\n",
    "\n",
    "from emukit.bayesian_optimization.acquisitions import ExpectedImprovement\n",
    "from emukit.bayesian_optimization.loops import BayesianOptimizationLoop\n",
    "\n",
    "from matplotlib import pyplot\n",
    "from mpl_toolkits.mplot3d import Axes3D\n",
    "from matplotlib import cm\n",
    "\n",
    "from pyDOE import *\n",
    "from scipy.stats import norm\n",
    "from scipy import integrate\n",
    "import corner\n",
    "\n",
    "import math\n",
    "%matplotlib inline \n",
    "\n",
    "from emcee.ptsampler import PTSampler\n",
    "from sklearn.preprocessing import StandardScaler\n",
    "\n",
    "# set seaborn style\n",
    "import seaborn as sns\n",
    "sns.set_style(\"white\")"
   ]
  },
  {
   "cell_type": "code",
   "execution_count": 9,
   "id": "planned-differential",
   "metadata": {},
   "outputs": [],
   "source": [
    "lb = [10,-1]\n",
    "ub = [30,1]\n",
    "parameter_space = ParameterSpace([ContinuousParameter('N', lb[0], ub[0]),ContinuousParameter('p', lb[1], ub[1])])"
   ]
  },
  {
   "cell_type": "code",
   "execution_count": 10,
   "id": "opponent-folder",
   "metadata": {},
   "outputs": [
    {
     "name": "stdout",
     "output_type": "stream",
     "text": [
      "[3656.807639697422, 0.08859184473482945] [10.38539156725103, 0.0010184682044249087]\n"
     ]
    }
   ],
   "source": [
    "n_exp = 10 # 10 experimenal data points\n",
    "noise_exp = [10, 0.001] # standard error\n",
    "mu_exp = list(np.array(simulation_parallel(true_param)).flatten()) # true function output\n",
    "sigma2_exp = [[noise_exp[0]**2,0],[0,noise_exp[1]**2]] # assume independent noise\n",
    "\n",
    "# experimental data for Bayesian Inference\n",
    "y_exp = np.random.multivariate_normal(mu_exp, sigma2_exp, n_exp) # sampled outputs with noise\n",
    "dy_exp = np.ones(true_param.shape[1]) * noise_exp\n",
    "\n",
    "# parameters for Active Learning\n",
    "mu_list = list(np.mean(y_exp, axis=0))\n",
    "sigma_list = list(np.sqrt(np.var(y_exp, axis=0)))\n",
    "print(mu_list, sigma_list)"
   ]
  },
  {
   "cell_type": "code",
   "execution_count": 11,
   "id": "sublime-singapore",
   "metadata": {},
   "outputs": [
    {
     "data": {
      "text/plain": [
       "array([1.e+01, 1.e-03])"
      ]
     },
     "execution_count": 11,
     "metadata": {},
     "output_type": "execute_result"
    }
   ],
   "source": [
    "dy_exp"
   ]
  },
  {
   "cell_type": "markdown",
   "id": "actual-citizenship",
   "metadata": {},
   "source": [
    "Save Experimental Data (for ApproxPosterior):"
   ]
  },
  {
   "cell_type": "code",
   "execution_count": 13,
   "id": "living-helena",
   "metadata": {},
   "outputs": [],
   "source": [
    "filename = 'Experimental_Data/Trento_2d_ExpData.txt'\n",
    "np.savetxt(filename, y_exp)\n",
    "filename = 'Experimental_Data/Trento_2d_dyExpData.txt'\n",
    "np.savetxt(filename, dy_exp)"
   ]
  },
  {
   "cell_type": "markdown",
   "id": "weird-mercury",
   "metadata": {},
   "source": [
    "### Target Posterior Distribution"
   ]
  },
  {
   "cell_type": "markdown",
   "id": "alien-stopping",
   "metadata": {},
   "source": [
    "log likelihood derivation:(for simulator)  \n",
    "  \n",
    "One observable:  \n",
    "$L(\\theta;y_1,\\cdots,y_n) \\propto \\frac{1}{\\sqrt{2\\pi \\sigma_{exp}^2}}exp\\{\\sum_{i=1}^n(y_i-\\eta(\\theta))^2\\}$  \n",
    "$logL(\\theta;y_1,\\cdots,y_n) \\propto -0.5log(2\\pi \\sigma_{exp}^2) - 0.5\\frac{1}{\\sigma_{exp}^2}\\sum_{i=1}^n(y_i-\\eta(\\theta))^2$  \n",
    "where $\\sigma_{exp}^2$ is experimental noise variance  \n",
    "  \n",
    "d observables:  \n",
    "$logL(\\theta;y_{11},\\cdots,y_{n1},\\cdots,y_{1d},\\cdots,y_{nd}) = \\sum_{i=1}^d logL(\\theta;y_{1i},\\cdots,y_{ni})$"
   ]
  },
  {
   "cell_type": "code",
   "execution_count": 20,
   "id": "arabic-browse",
   "metadata": {},
   "outputs": [],
   "source": [
    "theta_min = [1, -1]\n",
    "theta_max = [30, 1]\n",
    "\n",
    "# independent uniform prior\n",
    "def log_flat_prior(theta):\n",
    "    # The parameters are stored as a vector of values, so unpack them\n",
    "    theta1, theta2 = theta\n",
    "    # We're using only uniform priors in [0,1]\n",
    "    if (theta_min[0] <= theta1) and (theta1 <= theta_max[0]) and (theta_min[1] <= theta2) and (theta2 <= theta_max[1]):\n",
    "        return 0. # log(1)\n",
    "    else:\n",
    "        return -np.inf  # log(0)\n",
    "    \n",
    "# log_flat_prior = np.vectorize(log_flat_prior)\n",
    "\n",
    "def sim_output(xx, obsno):\n",
    "    \"\"\"This generates output from simulator.\"\"\"\n",
    "    X = xx.reshape(-1, ndim)\n",
    "    y = simulation(X[0,0],X[0,1])\n",
    "    return y[obsno]\n",
    "\n",
    "# define log likelihood\n",
    "def log_likelihood_sim(theta, y_exp, dy_exp):\n",
    "    '''\n",
    "    Log-likelihood for data y_exp.\n",
    "    theta: 2d vector;\n",
    "    y_exp: n_exp by 2;\n",
    "    dy_exp: 2d vector (experimental noise is the same for different observations).\n",
    "    '''\n",
    "    log_lik = 0\n",
    "    for obs in range(y_exp.shape[1]): # number of observables\n",
    "        y_pred = sim_output(theta, obs) # simulator (the same value for one input theta)\n",
    "        sigma2 = dy_exp[obs]**2. + 0 # no simulator uncertainty\n",
    "        log_lik = log_lik - 0.5*np.log(2.*np.pi*sigma2) - 0.5/sigma2 * np.sum((y_pred - y_exp[:,obs])**2)    \n",
    "    return log_lik\n",
    "\n",
    "#posterior using flat prior\n",
    "def log_posterior_flat_prior_sim(theta, y_exp, dy_exp):\n",
    "    '''Log posterior for data y_exp and uncertainties \n",
    "        dy_exp given parameter array theta, assuming prior is flat.'''\n",
    "    return log_flat_prior(theta) + log_likelihood_sim(theta, y_exp, dy_exp)"
   ]
  },
  {
   "cell_type": "code",
   "execution_count": 15,
   "id": "capital-external",
   "metadata": {},
   "outputs": [
    {
     "name": "stdout",
     "output_type": "stream",
     "text": [
      "CPU times: user 3.76 s, sys: 1.41 s, total: 5.17 s\n",
      "Wall time: 1h 9min 58s\n"
     ]
    },
    {
     "name": "stderr",
     "output_type": "stream",
     "text": [
      " /Users/dananjayaliyanage/miniconda3/envs/parton_loss/lib/python3.6/site-packages/ptemcee/util.py:43: FutureWarning:Using a non-tuple sequence for multidimensional indexing is deprecated; use `arr[tuple(seq)]` instead of `arr[seq]`. In the future this will be interpreted as an array index, `arr[np.array(seq)]`, which will result either in an error or a different result.\n",
      " /Users/dananjayaliyanage/miniconda3/envs/parton_loss/lib/python3.6/site-packages/ptemcee/util.py:45: FutureWarning:Using a non-tuple sequence for multidimensional indexing is deprecated; use `arr[tuple(seq)]` instead of `arr[seq]`. In the future this will be interpreted as an array index, `arr[np.array(seq)]`, which will result either in an error or a different result.\n",
      " /Users/dananjayaliyanage/miniconda3/envs/parton_loss/lib/python3.6/site-packages/ptemcee/util.py:80: FutureWarning:Using a non-tuple sequence for multidimensional indexing is deprecated; use `arr[tuple(seq)]` instead of `arr[seq]`. In the future this will be interpreted as an array index, `arr[np.array(seq)]`, which will result either in an error or a different result.\n",
      "Process ForkPoolWorker-32:\n",
      "Process ForkPoolWorker-26:\n",
      "Process ForkPoolWorker-28:\n",
      "Process ForkPoolWorker-27:\n",
      "Process ForkPoolWorker-29:\n",
      "Process ForkPoolWorker-30:\n",
      "Process ForkPoolWorker-25:\n",
      "Traceback (most recent call last):\n",
      "Process ForkPoolWorker-31:\n",
      "Traceback (most recent call last):\n",
      "Traceback (most recent call last):\n",
      "Traceback (most recent call last):\n",
      "Traceback (most recent call last):\n",
      "Traceback (most recent call last):\n",
      "Traceback (most recent call last):\n",
      "Traceback (most recent call last):\n",
      "  File \"/Users/dananjayaliyanage/miniconda3/envs/parton_loss/lib/python3.6/multiprocessing/process.py\", line 258, in _bootstrap\n",
      "    self.run()\n",
      "  File \"/Users/dananjayaliyanage/miniconda3/envs/parton_loss/lib/python3.6/multiprocessing/process.py\", line 258, in _bootstrap\n",
      "    self.run()\n",
      "  File \"/Users/dananjayaliyanage/miniconda3/envs/parton_loss/lib/python3.6/multiprocessing/process.py\", line 258, in _bootstrap\n",
      "    self.run()\n",
      "  File \"/Users/dananjayaliyanage/miniconda3/envs/parton_loss/lib/python3.6/multiprocessing/process.py\", line 258, in _bootstrap\n",
      "    self.run()\n",
      "  File \"/Users/dananjayaliyanage/miniconda3/envs/parton_loss/lib/python3.6/multiprocessing/process.py\", line 258, in _bootstrap\n",
      "    self.run()\n",
      "  File \"/Users/dananjayaliyanage/miniconda3/envs/parton_loss/lib/python3.6/multiprocessing/process.py\", line 258, in _bootstrap\n",
      "    self.run()\n",
      "  File \"/Users/dananjayaliyanage/miniconda3/envs/parton_loss/lib/python3.6/multiprocessing/process.py\", line 258, in _bootstrap\n",
      "    self.run()\n",
      "  File \"/Users/dananjayaliyanage/miniconda3/envs/parton_loss/lib/python3.6/multiprocessing/process.py\", line 258, in _bootstrap\n",
      "    self.run()\n",
      "  File \"/Users/dananjayaliyanage/miniconda3/envs/parton_loss/lib/python3.6/multiprocessing/process.py\", line 93, in run\n",
      "    self._target(*self._args, **self._kwargs)\n",
      "  File \"/Users/dananjayaliyanage/miniconda3/envs/parton_loss/lib/python3.6/multiprocessing/process.py\", line 93, in run\n",
      "    self._target(*self._args, **self._kwargs)\n",
      "  File \"/Users/dananjayaliyanage/miniconda3/envs/parton_loss/lib/python3.6/multiprocessing/process.py\", line 93, in run\n",
      "    self._target(*self._args, **self._kwargs)\n",
      "  File \"/Users/dananjayaliyanage/miniconda3/envs/parton_loss/lib/python3.6/multiprocessing/process.py\", line 93, in run\n",
      "    self._target(*self._args, **self._kwargs)\n",
      "  File \"/Users/dananjayaliyanage/miniconda3/envs/parton_loss/lib/python3.6/multiprocessing/process.py\", line 93, in run\n",
      "    self._target(*self._args, **self._kwargs)\n",
      "  File \"/Users/dananjayaliyanage/miniconda3/envs/parton_loss/lib/python3.6/multiprocessing/process.py\", line 93, in run\n",
      "    self._target(*self._args, **self._kwargs)\n",
      "  File \"/Users/dananjayaliyanage/miniconda3/envs/parton_loss/lib/python3.6/multiprocessing/process.py\", line 93, in run\n",
      "    self._target(*self._args, **self._kwargs)\n",
      "  File \"/Users/dananjayaliyanage/miniconda3/envs/parton_loss/lib/python3.6/multiprocessing/process.py\", line 93, in run\n",
      "    self._target(*self._args, **self._kwargs)\n",
      "  File \"/Users/dananjayaliyanage/miniconda3/envs/parton_loss/lib/python3.6/multiprocessing/pool.py\", line 108, in worker\n",
      "    task = get()\n",
      "  File \"/Users/dananjayaliyanage/miniconda3/envs/parton_loss/lib/python3.6/multiprocessing/pool.py\", line 108, in worker\n",
      "    task = get()\n",
      "  File \"/Users/dananjayaliyanage/miniconda3/envs/parton_loss/lib/python3.6/multiprocessing/pool.py\", line 108, in worker\n",
      "    task = get()\n",
      "  File \"/Users/dananjayaliyanage/miniconda3/envs/parton_loss/lib/python3.6/multiprocessing/pool.py\", line 108, in worker\n",
      "    task = get()\n",
      "  File \"/Users/dananjayaliyanage/miniconda3/envs/parton_loss/lib/python3.6/multiprocessing/pool.py\", line 108, in worker\n",
      "    task = get()\n",
      "  File \"/Users/dananjayaliyanage/miniconda3/envs/parton_loss/lib/python3.6/multiprocessing/pool.py\", line 108, in worker\n",
      "    task = get()\n",
      "  File \"/Users/dananjayaliyanage/miniconda3/envs/parton_loss/lib/python3.6/multiprocessing/pool.py\", line 108, in worker\n",
      "    task = get()\n",
      "  File \"/Users/dananjayaliyanage/miniconda3/envs/parton_loss/lib/python3.6/multiprocessing/pool.py\", line 108, in worker\n",
      "    task = get()\n",
      "  File \"/Users/dananjayaliyanage/miniconda3/envs/parton_loss/lib/python3.6/multiprocessing/queues.py\", line 334, in get\n",
      "    with self._rlock:\n",
      "  File \"/Users/dananjayaliyanage/miniconda3/envs/parton_loss/lib/python3.6/multiprocessing/queues.py\", line 334, in get\n",
      "    with self._rlock:\n",
      "  File \"/Users/dananjayaliyanage/miniconda3/envs/parton_loss/lib/python3.6/multiprocessing/queues.py\", line 334, in get\n",
      "    with self._rlock:\n",
      "  File \"/Users/dananjayaliyanage/miniconda3/envs/parton_loss/lib/python3.6/multiprocessing/queues.py\", line 334, in get\n",
      "    with self._rlock:\n",
      "  File \"/Users/dananjayaliyanage/miniconda3/envs/parton_loss/lib/python3.6/multiprocessing/queues.py\", line 334, in get\n",
      "    with self._rlock:\n",
      "  File \"/Users/dananjayaliyanage/miniconda3/envs/parton_loss/lib/python3.6/multiprocessing/queues.py\", line 334, in get\n",
      "    with self._rlock:\n",
      "  File \"/Users/dananjayaliyanage/miniconda3/envs/parton_loss/lib/python3.6/multiprocessing/queues.py\", line 334, in get\n",
      "    with self._rlock:\n",
      "  File \"/Users/dananjayaliyanage/miniconda3/envs/parton_loss/lib/python3.6/multiprocessing/queues.py\", line 335, in get\n",
      "    res = self._reader.recv_bytes()\n",
      "  File \"/Users/dananjayaliyanage/miniconda3/envs/parton_loss/lib/python3.6/multiprocessing/synchronize.py\", line 95, in __enter__\n",
      "    return self._semlock.__enter__()\n",
      "  File \"/Users/dananjayaliyanage/miniconda3/envs/parton_loss/lib/python3.6/multiprocessing/synchronize.py\", line 95, in __enter__\n",
      "    return self._semlock.__enter__()\n",
      "  File \"/Users/dananjayaliyanage/miniconda3/envs/parton_loss/lib/python3.6/multiprocessing/synchronize.py\", line 95, in __enter__\n",
      "    return self._semlock.__enter__()\n",
      "  File \"/Users/dananjayaliyanage/miniconda3/envs/parton_loss/lib/python3.6/multiprocessing/synchronize.py\", line 95, in __enter__\n",
      "    return self._semlock.__enter__()\n",
      "  File \"/Users/dananjayaliyanage/miniconda3/envs/parton_loss/lib/python3.6/multiprocessing/synchronize.py\", line 95, in __enter__\n",
      "    return self._semlock.__enter__()\n",
      "  File \"/Users/dananjayaliyanage/miniconda3/envs/parton_loss/lib/python3.6/multiprocessing/synchronize.py\", line 95, in __enter__\n",
      "    return self._semlock.__enter__()\n",
      "  File \"/Users/dananjayaliyanage/miniconda3/envs/parton_loss/lib/python3.6/multiprocessing/synchronize.py\", line 95, in __enter__\n",
      "    return self._semlock.__enter__()\n",
      "  File \"/Users/dananjayaliyanage/miniconda3/envs/parton_loss/lib/python3.6/multiprocessing/connection.py\", line 216, in recv_bytes\n",
      "    buf = self._recv_bytes(maxlength)\n",
      "KeyboardInterrupt\n",
      "KeyboardInterrupt\n",
      "KeyboardInterrupt\n",
      "KeyboardInterrupt\n",
      "KeyboardInterrupt\n",
      "KeyboardInterrupt\n",
      "KeyboardInterrupt\n",
      "  File \"/Users/dananjayaliyanage/miniconda3/envs/parton_loss/lib/python3.6/multiprocessing/connection.py\", line 407, in _recv_bytes\n",
      "    buf = self._recv(4)\n",
      "  File \"/Users/dananjayaliyanage/miniconda3/envs/parton_loss/lib/python3.6/multiprocessing/connection.py\", line 379, in _recv\n",
      "    chunk = read(handle, remaining)\n",
      "KeyboardInterrupt\n"
     ]
    }
   ],
   "source": [
    "%%time\n",
    "# ptemcee\n",
    "# https://emcee.readthedocs.io/en/develop/user/pt/\n",
    "from emcee.ptsampler import PTSampler\n",
    "ndim = 2\n",
    "Tmax = 10\n",
    "ntemps = 2\n",
    "nwalkers = 4\n",
    "# starting_guesses = np.ones(ntemps*nwalkers*ndim).reshape(ntemps,nwalkers,ndim)*0.5 + np.random.rand(ntemps,nwalkers,ndim) * 0.1\n",
    "starting_guesses = np.random.uniform(low=lb,high=ub,size=(ntemps,nwalkers,ndim))\n",
    "#starting_guesses[:,:,0]= starting_guesses[:,:,0]\n",
    "sampler = PTSampler(nwalkers, ndim, log_likelihood_sim, log_flat_prior, Tmax=Tmax, \n",
    "                    ntemps=ntemps, loglargs=[y_exp, dy_exp], threads=8)\n",
    "\n",
    "# burn in\n",
    "for p, lnprob, lnlike in sampler.sample(starting_guesses, iterations=10):\n",
    "    pass\n",
    "sampler.reset()\n",
    "\n",
    "# record every 10\n",
    "for p, lnprob, lnlike in sampler.sample(p, iterations=50, thin=1):\n",
    "    pass\n",
    "\n",
    "# resulting chains\n",
    "assert sampler.chain.shape == (ntemps, nwalkers, 50, ndim)\n",
    "\n",
    "# Chain has shape (ntemps, nwalkers, nsteps, ndim)\n",
    "# Zero temperature mean:\n",
    "mu0 = np.mean(np.mean(sampler.chain[0,...], axis=0), axis=0)\n",
    "\n",
    "# Longest autocorrelation length (over any temperature)\n",
    "max_acl = np.max(sampler.acor)"
   ]
  },
  {
   "cell_type": "code",
   "execution_count": 16,
   "id": "judicial-utility",
   "metadata": {},
   "outputs": [
    {
     "data": {
      "image/png": "[encoded data removed]",
      "text/plain": [
       "<Figure size 864x288 with 2 Axes>"
      ]
     },
     "metadata": {},
     "output_type": "display_data"
    },
    {
     "name": "stderr",
     "output_type": "stream",
     "text": [
      "WARNING:root:Too few points to create valid contours\n"
     ]
    },
    {
     "data": {
      "image/png": "[encoded data removed]",
      "text/plain": [
       "<Figure size 396x396 with 4 Axes>"
      ]
     },
     "metadata": {},
     "output_type": "display_data"
    }
   ],
   "source": [
    "# plots & save data for R analysis\n",
    "sim_T0chain = sampler.chain[0,...].reshape(-1,ndim)\n",
    "fig,(ax1, ax2) = plt.subplots(1, 2, figsize=(12,4))\n",
    "ax1.plot(sim_T0chain[:,0], '-', color='k', alpha=0.3)\n",
    "ax1.axhline(y=true_param[0][0], color='blue')\n",
    "ax1.title.set_text('theta1')\n",
    "\n",
    "ax2.plot(sim_T0chain[:,1], '-', color='k', alpha=0.3)\n",
    "ax2.axhline(y=true_param[0][1], color='blue')\n",
    "ax2.title.set_text('theta2')\n",
    "plt.show()\n",
    "\n",
    "tmp = corner.corner(sim_T0chain, labels=['theta1','theta2'], \n",
    "                truths=[true_param[0][0],true_param[0][1]])"
   ]
  },
  {
   "cell_type": "code",
   "execution_count": 17,
   "id": "afraid-grass",
   "metadata": {},
   "outputs": [],
   "source": [
    "MCMC_sim = pd.DataFrame(sim_T0chain)\n",
    "MCMC_sim.to_csv('Outputs/Trento_2d_MCMCSim.csv', index=False)"
   ]
  },
  {
   "cell_type": "markdown",
   "id": "functioning-prize",
   "metadata": {
    "tags": []
   },
   "source": [
    "### Active Learning"
   ]
  },
  {
   "cell_type": "code",
   "execution_count": 12,
   "id": "spiritual-dollar",
   "metadata": {},
   "outputs": [],
   "source": [
    "### General imports\n",
    "%matplotlib inline\n",
    "import numpy as np\n",
    "import matplotlib.pyplot as plt\n",
    "from matplotlib import colors as mcolors\n",
    "\n",
    "### --- Figure config\n",
    "LEGEND_SIZE = 15\n",
    "\n",
    "from emukit.test_functions import forrester_function\n",
    "from emukit.core.loop.user_function import UserFunctionWrapper\n",
    "from emukit.core import ContinuousParameter, ParameterSpace\n",
    "\n",
    "from emukit.examples.gp_bayesian_optimization.single_objective_bayesian_optimization import GPBayesianOptimization\n",
    "from emukit.bayesian_optimization.acquisitions import ExpectedImprovement, NegativeLowerConfidenceBound, ProbabilityOfImprovement\n",
    "from emukit.core.optimization import GradientAcquisitionOptimizer"
   ]
  },
  {
   "cell_type": "code",
   "execution_count": 13,
   "id": "lesser-restoration",
   "metadata": {},
   "outputs": [],
   "source": [
    "n_init = 20\n",
    "n_total = 35\n",
    "ndim = 2"
   ]
  },
  {
   "cell_type": "markdown",
   "id": "objective-storage",
   "metadata": {},
   "source": [
    "log likelihood derivation:(for emulator)  \n",
    "  \n",
    "One observable:  \n",
    "$L(\\theta;y_1,\\cdots,y_n) \\propto \\frac{1}{\\sqrt{2\\pi \\sigma^{*2}(\\theta)}}exp\\{\\sum_{i=1}^n(y_i-\\hat{\\eta}(\\theta))^2\\}$  \n",
    "$logL(\\theta;y_1,\\cdots,y_n) \\propto -0.5log(2\\pi \\sigma^{*2}(\\theta)) - 0.5\\frac{1}{\\sigma^{*2}(\\theta)}\\sum_{i=1}^n(y_i-\\hat{\\eta}(\\theta))^2$  \n",
    "where $\\sigma^{*2}(\\theta) = s^2(\\theta) + \\sigma_{exp}^2$  \n",
    "  \n",
    "d observables:  \n",
    "$logL(\\theta;y_{11},\\cdots,y_{n1},\\cdots,y_{1d},\\cdots,y_{nd}) = \\sum_{i=1}^d logL(\\theta;y_{1i},\\cdots,y_{ni})$"
   ]
  },
  {
   "cell_type": "code",
   "execution_count": 14,
   "id": "excellent-antigua",
   "metadata": {},
   "outputs": [
    {
     "data": {
      "text/plain": [
       "[10.38539156725103, 0.0010184682044249087]"
      ]
     },
     "execution_count": 14,
     "metadata": {},
     "output_type": "execute_result"
    }
   ],
   "source": [
    "sigma_list"
   ]
  },
  {
   "cell_type": "code",
   "execution_count": 17,
   "id": "artistic-shark",
   "metadata": {},
   "outputs": [],
   "source": [
    "def fw(X):\n",
    "    Y = simulation_parallel(X)\n",
    "    Y1 = Y[:,0]\n",
    "    W1 = Y1**2 - 2*Y1*mu_list[0] + mu_list[0]**2 + sigma_list[0]**2.\n",
    "    Y2 = Y[:,1]\n",
    "    W2 = Y2**2 - 2*Y2*mu_list[1] + mu_list[1]**2 + sigma_list[1]**2.\n",
    "    output = (W1/np.mean(Y1))**2 +(W2/np.mean(Y2))**2 # how to scale them?\n",
    "    return output.reshape(-1,1)"
   ]
  },
  {
   "cell_type": "code",
   "execution_count": 18,
   "id": "brave-attack",
   "metadata": {},
   "outputs": [
    {
     "name": "stdout",
     "output_type": "stream",
     "text": [
      "Iteration 0\n",
      "Iteration 1: x_new = [25.29 -1.  ]; EI = [24493.79]\n",
      "Iteration 2: x_new = [23.32 -1.  ]; EI = [10540.85]\n",
      "Iteration 3: x_new = [20.35 -0.88]; EI = [898.13]\n",
      "Iteration 4: x_new = [19.36  0.07]; EI = [342.18]\n",
      "Iteration 5: x_new = [19.56 -0.45]; EI = [335.55]\n",
      "Iteration 6: x_new = [23.64 -1.  ]; EI = [719.21]\n",
      "Iteration 7: x_new = [21.76 -1.  ]; EI = [2039.85]\n",
      "Iteration 8: x_new = [20.8  -0.44]; EI = [282.74]\n",
      "Iteration 9: x_new = [15.32  1.  ]; EI = [711.88]\n",
      "Iteration 10: x_new = [19.4  1. ]; EI = [332.18]\n",
      "Iteration 11: x_new = [21.24 -0.47]; EI = [66.57]\n",
      "Iteration 12: x_new = [19.51  0.26]; EI = [38.12]\n",
      "Iteration 13: x_new = [21.97 -1.  ]; EI = [51.87]\n",
      "Iteration 14: x_new = [19.69  0.06]; EI = [26.87]\n"
     ]
    },
    {
     "data": {
      "text/plain": [
       "<matplotlib.legend.Legend at 0x7f9290be2f60>"
      ]
     },
     "execution_count": 18,
     "metadata": {},
     "output_type": "execute_result"
    },
    {
     "data": {
      "image/png": "[encoded data removed]",
      "text/plain": [
       "<Figure size 432x288 with 1 Axes>"
      ]
     },
     "metadata": {
      "needs_background": "light"
     },
     "output_type": "display_data"
    }
   ],
   "source": [
    "i = 0\n",
    "# initial sample size\n",
    "X = lhs(n=ndim, samples=n_init, criterion='maximin', iterations=10)\n",
    "max_iterations = n_total - n_init\n",
    "X[:,0] = X[:,0]*20 + 10\n",
    "X[:,1] = X[:,1]*2 - 1\n",
    "W = fw(X)\n",
    "\n",
    "kernel1 = RBF(input_dim=2, ARD=True)\n",
    "gpy_model = GPy.models.GPRegression(X, W, kernel1, noise_var=1e-10)\n",
    "emukit_model = GPyModelWrapper(gpy_model)\n",
    "print('Iteration ' + str(i))\n",
    "\n",
    "#---# BO Procedure\n",
    "for i in range(1,n_total-n_init):\n",
    "    # define EI function\n",
    "    ei_acquisition = ExpectedImprovement(emukit_model)\n",
    "\n",
    "    # optimize EI function\n",
    "    optimizer = GradientAcquisitionOptimizer(parameter_space)\n",
    "    x_new, opt_acq = optimizer.optimize(ei_acquisition)\n",
    "\n",
    "    print('Iteration ' + str(i) + ': x_new = ' + str(np.round(x_new.flatten(),2)) + '; EI = ' + str(np.round(opt_acq.flatten(),2)))\n",
    "\n",
    "    # update emulator with additional point\n",
    "    w_new = fw(x_new)\n",
    "    X = np.append(X, x_new, axis=0)\n",
    "    W = np.append(W, w_new, axis=0)\n",
    "    emukit_model.set_data(X, W)\n",
    "\n",
    "    #mu_plot, var_plot = emukit_model.predict(X_plot)\n",
    "\n",
    "n_end = len(X)\n",
    "fig, ax = plt.subplots()\n",
    "ax.scatter(X[0:n_init,0],X[0:n_init,1], color='black', label='initial')\n",
    "ax.scatter(X[n_init:n_end,0],X[n_init:n_end,1], label='sequential')\n",
    "ax.scatter(true_param[:,0], true_param[:,1], color='red', label='target')\n",
    "n = np.arange(0,X[0:n_end,:].shape[0])\n",
    "# for i, txt in enumerate(n):\n",
    "#     ax.annotate(txt, (X[i,0], X[i,1]))\n",
    "plt.legend()"
   ]
  },
  {
   "cell_type": "code",
   "execution_count": 21,
   "id": "polyphonic-courage",
   "metadata": {},
   "outputs": [
    {
     "name": "stdout",
     "output_type": "stream",
     "text": [
      "Optimization restart 1/20, f = 823.616961885215\n",
      "Optimization restart 2/20, f = 153.26817735858867\n",
      "Warning - optimization restart 3/20 failed\n",
      "Warning - optimization restart 4/20 failed\n",
      "Optimization restart 5/20, f = 240.0384125684953\n",
      "Warning - optimization restart 6/20 failed\n",
      "Warning - optimization restart 7/20 failed\n",
      "Optimization restart 8/20, f = 12555.843476283197\n",
      "Warning - optimization restart 9/20 failed\n",
      "Warning - optimization restart 10/20 failed\n",
      "Warning - optimization restart 11/20 failed\n",
      "Warning - optimization restart 12/20 failed\n",
      "Optimization restart 13/20, f = 378.2530016695917\n",
      "Warning - optimization restart 14/20 failed\n",
      "Warning - optimization restart 15/20 failed\n",
      "Warning - optimization restart 16/20 failed\n",
      "Warning - optimization restart 17/20 failed\n",
      "Warning - optimization restart 18/20 failed\n",
      "Warning - optimization restart 19/20 failed\n",
      "Optimization restart 20/20, f = 227.32966739702448\n",
      "Done with burnin\n"
     ]
    },
    {
     "name": "stderr",
     "output_type": "stream",
     "text": [
      " /Users/dananjayaliyanage/miniconda3/envs/parton_loss/lib/python3.6/site-packages/ptemcee/util.py:43: FutureWarning:Using a non-tuple sequence for multidimensional indexing is deprecated; use `arr[tuple(seq)]` instead of `arr[seq]`. In the future this will be interpreted as an array index, `arr[np.array(seq)]`, which will result either in an error or a different result.\n",
      " /Users/dananjayaliyanage/miniconda3/envs/parton_loss/lib/python3.6/site-packages/ptemcee/util.py:45: FutureWarning:Using a non-tuple sequence for multidimensional indexing is deprecated; use `arr[tuple(seq)]` instead of `arr[seq]`. In the future this will be interpreted as an array index, `arr[np.array(seq)]`, which will result either in an error or a different result.\n",
      " /Users/dananjayaliyanage/miniconda3/envs/parton_loss/lib/python3.6/site-packages/ptemcee/util.py:80: FutureWarning:Using a non-tuple sequence for multidimensional indexing is deprecated; use `arr[tuple(seq)]` instead of `arr[seq]`. In the future this will be interpreted as an array index, `arr[np.array(seq)]`, which will result either in an error or a different result.\n"
     ]
    },
    {
     "data": {
      "image/png": "[encoded data removed]",
      "text/plain": [
       "<Figure size 864x288 with 2 Axes>"
      ]
     },
     "metadata": {
      "needs_background": "light"
     },
     "output_type": "display_data"
    },
    {
     "name": "stdout",
     "output_type": "stream",
     "text": [
      "CPU times: user 14.5 s, sys: 787 ms, total: 15.3 s\n",
      "Wall time: 2min 49s\n"
     ]
    },
    {
     "data": {
      "image/png": "[encoded data removed]",
      "text/plain": [
       "<Figure size 396x396 with 4 Axes>"
      ]
     },
     "metadata": {
      "needs_background": "light"
     },
     "output_type": "display_data"
    },
    {
     "name": "stderr",
     "output_type": "stream",
     "text": [
      "Process ForkPoolWorker-11:\n",
      "Process ForkPoolWorker-13:\n",
      "Process ForkPoolWorker-16:\n",
      "Process ForkPoolWorker-14:\n",
      "Process ForkPoolWorker-10:\n",
      "Process ForkPoolWorker-15:\n",
      "Process ForkPoolWorker-9:\n",
      "Process ForkPoolWorker-12:\n",
      "Traceback (most recent call last):\n",
      "Traceback (most recent call last):\n",
      "Traceback (most recent call last):\n",
      "Traceback (most recent call last):\n",
      "Traceback (most recent call last):\n",
      "Traceback (most recent call last):\n",
      "Traceback (most recent call last):\n",
      "Traceback (most recent call last):\n",
      "  File \"/Users/dananjayaliyanage/miniconda3/envs/parton_loss/lib/python3.6/multiprocessing/process.py\", line 258, in _bootstrap\n",
      "    self.run()\n",
      "  File \"/Users/dananjayaliyanage/miniconda3/envs/parton_loss/lib/python3.6/multiprocessing/process.py\", line 258, in _bootstrap\n",
      "    self.run()\n",
      "  File \"/Users/dananjayaliyanage/miniconda3/envs/parton_loss/lib/python3.6/multiprocessing/process.py\", line 258, in _bootstrap\n",
      "    self.run()\n",
      "  File \"/Users/dananjayaliyanage/miniconda3/envs/parton_loss/lib/python3.6/multiprocessing/process.py\", line 258, in _bootstrap\n",
      "    self.run()\n",
      "  File \"/Users/dananjayaliyanage/miniconda3/envs/parton_loss/lib/python3.6/multiprocessing/process.py\", line 258, in _bootstrap\n",
      "    self.run()\n",
      "  File \"/Users/dananjayaliyanage/miniconda3/envs/parton_loss/lib/python3.6/multiprocessing/process.py\", line 258, in _bootstrap\n",
      "    self.run()\n",
      "  File \"/Users/dananjayaliyanage/miniconda3/envs/parton_loss/lib/python3.6/multiprocessing/process.py\", line 258, in _bootstrap\n",
      "    self.run()\n",
      "  File \"/Users/dananjayaliyanage/miniconda3/envs/parton_loss/lib/python3.6/multiprocessing/process.py\", line 258, in _bootstrap\n",
      "    self.run()\n",
      "  File \"/Users/dananjayaliyanage/miniconda3/envs/parton_loss/lib/python3.6/multiprocessing/process.py\", line 93, in run\n",
      "    self._target(*self._args, **self._kwargs)\n",
      "  File \"/Users/dananjayaliyanage/miniconda3/envs/parton_loss/lib/python3.6/multiprocessing/process.py\", line 93, in run\n",
      "    self._target(*self._args, **self._kwargs)\n",
      "  File \"/Users/dananjayaliyanage/miniconda3/envs/parton_loss/lib/python3.6/multiprocessing/process.py\", line 93, in run\n",
      "    self._target(*self._args, **self._kwargs)\n",
      "  File \"/Users/dananjayaliyanage/miniconda3/envs/parton_loss/lib/python3.6/multiprocessing/process.py\", line 93, in run\n",
      "    self._target(*self._args, **self._kwargs)\n",
      "  File \"/Users/dananjayaliyanage/miniconda3/envs/parton_loss/lib/python3.6/multiprocessing/process.py\", line 93, in run\n",
      "    self._target(*self._args, **self._kwargs)\n",
      "  File \"/Users/dananjayaliyanage/miniconda3/envs/parton_loss/lib/python3.6/multiprocessing/process.py\", line 93, in run\n",
      "    self._target(*self._args, **self._kwargs)\n",
      "  File \"/Users/dananjayaliyanage/miniconda3/envs/parton_loss/lib/python3.6/multiprocessing/process.py\", line 93, in run\n",
      "    self._target(*self._args, **self._kwargs)\n",
      "  File \"/Users/dananjayaliyanage/miniconda3/envs/parton_loss/lib/python3.6/multiprocessing/process.py\", line 93, in run\n",
      "    self._target(*self._args, **self._kwargs)\n",
      "  File \"/Users/dananjayaliyanage/miniconda3/envs/parton_loss/lib/python3.6/multiprocessing/pool.py\", line 108, in worker\n",
      "    task = get()\n",
      "  File \"/Users/dananjayaliyanage/miniconda3/envs/parton_loss/lib/python3.6/multiprocessing/pool.py\", line 108, in worker\n",
      "    task = get()\n",
      "  File \"/Users/dananjayaliyanage/miniconda3/envs/parton_loss/lib/python3.6/multiprocessing/pool.py\", line 108, in worker\n",
      "    task = get()\n",
      "  File \"/Users/dananjayaliyanage/miniconda3/envs/parton_loss/lib/python3.6/multiprocessing/pool.py\", line 108, in worker\n",
      "    task = get()\n",
      "  File \"/Users/dananjayaliyanage/miniconda3/envs/parton_loss/lib/python3.6/multiprocessing/pool.py\", line 108, in worker\n",
      "    task = get()\n",
      "  File \"/Users/dananjayaliyanage/miniconda3/envs/parton_loss/lib/python3.6/multiprocessing/pool.py\", line 108, in worker\n",
      "    task = get()\n",
      "  File \"/Users/dananjayaliyanage/miniconda3/envs/parton_loss/lib/python3.6/multiprocessing/pool.py\", line 108, in worker\n",
      "    task = get()\n",
      "  File \"/Users/dananjayaliyanage/miniconda3/envs/parton_loss/lib/python3.6/multiprocessing/pool.py\", line 108, in worker\n",
      "    task = get()\n",
      "  File \"/Users/dananjayaliyanage/miniconda3/envs/parton_loss/lib/python3.6/multiprocessing/queues.py\", line 334, in get\n",
      "    with self._rlock:\n",
      "  File \"/Users/dananjayaliyanage/miniconda3/envs/parton_loss/lib/python3.6/multiprocessing/queues.py\", line 335, in get\n",
      "    res = self._reader.recv_bytes()\n",
      "  File \"/Users/dananjayaliyanage/miniconda3/envs/parton_loss/lib/python3.6/multiprocessing/queues.py\", line 334, in get\n",
      "    with self._rlock:\n",
      "  File \"/Users/dananjayaliyanage/miniconda3/envs/parton_loss/lib/python3.6/multiprocessing/queues.py\", line 334, in get\n",
      "    with self._rlock:\n",
      "  File \"/Users/dananjayaliyanage/miniconda3/envs/parton_loss/lib/python3.6/multiprocessing/queues.py\", line 334, in get\n",
      "    with self._rlock:\n",
      "  File \"/Users/dananjayaliyanage/miniconda3/envs/parton_loss/lib/python3.6/multiprocessing/queues.py\", line 334, in get\n",
      "    with self._rlock:\n",
      "  File \"/Users/dananjayaliyanage/miniconda3/envs/parton_loss/lib/python3.6/multiprocessing/queues.py\", line 334, in get\n",
      "    with self._rlock:\n",
      "  File \"/Users/dananjayaliyanage/miniconda3/envs/parton_loss/lib/python3.6/multiprocessing/queues.py\", line 334, in get\n",
      "    with self._rlock:\n",
      "  File \"/Users/dananjayaliyanage/miniconda3/envs/parton_loss/lib/python3.6/multiprocessing/connection.py\", line 216, in recv_bytes\n",
      "    buf = self._recv_bytes(maxlength)\n",
      "  File \"/Users/dananjayaliyanage/miniconda3/envs/parton_loss/lib/python3.6/multiprocessing/synchronize.py\", line 95, in __enter__\n",
      "    return self._semlock.__enter__()\n",
      "  File \"/Users/dananjayaliyanage/miniconda3/envs/parton_loss/lib/python3.6/multiprocessing/synchronize.py\", line 95, in __enter__\n",
      "    return self._semlock.__enter__()\n",
      "  File \"/Users/dananjayaliyanage/miniconda3/envs/parton_loss/lib/python3.6/multiprocessing/synchronize.py\", line 95, in __enter__\n",
      "    return self._semlock.__enter__()\n",
      "  File \"/Users/dananjayaliyanage/miniconda3/envs/parton_loss/lib/python3.6/multiprocessing/synchronize.py\", line 95, in __enter__\n",
      "    return self._semlock.__enter__()\n",
      "  File \"/Users/dananjayaliyanage/miniconda3/envs/parton_loss/lib/python3.6/multiprocessing/synchronize.py\", line 95, in __enter__\n",
      "    return self._semlock.__enter__()\n",
      "  File \"/Users/dananjayaliyanage/miniconda3/envs/parton_loss/lib/python3.6/multiprocessing/synchronize.py\", line 95, in __enter__\n",
      "    return self._semlock.__enter__()\n",
      "  File \"/Users/dananjayaliyanage/miniconda3/envs/parton_loss/lib/python3.6/multiprocessing/connection.py\", line 407, in _recv_bytes\n",
      "    buf = self._recv(4)\n",
      "  File \"/Users/dananjayaliyanage/miniconda3/envs/parton_loss/lib/python3.6/multiprocessing/synchronize.py\", line 95, in __enter__\n",
      "    return self._semlock.__enter__()\n",
      "KeyboardInterrupt\n",
      "KeyboardInterrupt\n",
      "KeyboardInterrupt\n",
      "KeyboardInterrupt\n",
      "KeyboardInterrupt\n",
      "KeyboardInterrupt\n",
      "  File \"/Users/dananjayaliyanage/miniconda3/envs/parton_loss/lib/python3.6/multiprocessing/connection.py\", line 379, in _recv\n",
      "    chunk = read(handle, remaining)\n",
      "KeyboardInterrupt\n",
      "KeyboardInterrupt\n"
     ]
    }
   ],
   "source": [
    "%%time\n",
    "#---# Bayesian inference\n",
    "x_ranjan = X.copy()\n",
    "y_ranjan = simulation_parallel(x_ranjan)\n",
    "\n",
    "# train GP\n",
    "\n",
    "kernel1 = RBF(input_dim=2, ARD=True)\n",
    "kernel2 = RBF(input_dim=2, ARD=True)\n",
    "model_gpy = MultioutputGP([x_ranjan,x_ranjan],[y_ranjan[:,0].reshape(-1,1),y_ranjan[:,1].reshape(-1,1)],\n",
    "                          likelihood_list=[likelihoods.Gaussian(),likelihoods.Gaussian()],\n",
    "                          kernel_list=[kernel1,kernel2])\n",
    "model = GPyMultiOutputWrapper(model_gpy, n_outputs=2, n_optimization_restarts=20)\n",
    "model.optimize()\n",
    "\n",
    "def emu_predict(xx, obsno):\n",
    "    \"\"\"This function handles the scaling and GP interpolation together, \n",
    "    returning our prediction in the ordinary observable space\n",
    "    rather than the scaled observable space.\n",
    "    This map is what we call our 'emulator'. \"\"\"\n",
    "    X = xx.reshape(-1, ndim)\n",
    "    new_column = [[obsno]]*len(X)\n",
    "    pred_temp = model.predict(np.append(X,new_column,axis=1))\n",
    "    y = pred_temp[0] # vector of predictive means\n",
    "    s2_vec = pred_temp[1]\n",
    "    dy = np.sqrt(s2_vec)\n",
    "    return y, dy\n",
    "\n",
    "def log_likelihood(theta, y_exp, dy_exp):\n",
    "    '''\n",
    "    Log-likelihood for data y_exp.\n",
    "    theta: 2d vector;\n",
    "    y_exp: n_exp by 2;\n",
    "    dy_exp: 2d vector (experimental noise is the same for different observations).\n",
    "    '''\n",
    "    #use our GP emulator for prediction\n",
    "    log_lik = 0\n",
    "    for obs in range(y_exp.shape[1]): # number of observables\n",
    "        y_pred, s_pred = emu_predict(theta, obs) # emulator prediction and uncertainty\n",
    "        sigma2 = dy_exp[obs]**2. + s_pred**2. # emulator uncertainty\n",
    "        log_lik = log_lik - 0.5*np.log(2.*np.pi*sigma2) - 0.5/sigma2 * np.sum((y_pred - y_exp[:,obs])**2)    \n",
    "    return log_lik\n",
    "\n",
    "#posterior using flat prior\n",
    "def log_posterior_flat_prior(theta, y_exp, dy_exp):\n",
    "    '''Log posterior for data y_exp and uncertainties \n",
    "        dy_exp given parameter array theta, assuming prior is flat.'''\n",
    "    return log_flat_prior(theta) + log_likelihood(theta, y_exp, dy_exp)\n",
    "\n",
    "# ptemcee\n",
    "ntemps = 2\n",
    "nwalkers = 20\n",
    "starting_guesses = np.random.uniform(low=lb,high=ub,size=(ntemps,nwalkers,ndim))\n",
    "sampler = PTSampler(nwalkers, ndim, log_likelihood, log_flat_prior, ntemps=ntemps, loglargs=[y_exp, dy_exp],\n",
    "                   threads=8)\n",
    "\n",
    "# burn in\n",
    "for p, lnprob, lnlike in sampler.sample(starting_guesses, iterations=1000):\n",
    "    pass\n",
    "sampler.reset()\n",
    "print('Done with burnin')\n",
    "# record every 10\n",
    "for p, lnprob, lnlike in sampler.sample(p, iterations=1000, thin=10):\n",
    "    pass\n",
    "\n",
    "# resulting chains\n",
    "assert sampler.chain.shape == (ntemps, nwalkers, 100, ndim)\n",
    "\n",
    "# Chain has shape (ntemps, nwalkers, nsteps, ndim)\n",
    "# Zero temperature mean:\n",
    "mu0 = np.mean(np.mean(sampler.chain[0,...], axis=0), axis=0)\n",
    "\n",
    "# Longest autocorrelation length (over any temperature)\n",
    "max_acl = np.max(sampler.acor)\n",
    "\n",
    "# plots & save data for R analysis\n",
    "prop_T0chain = sampler.chain[0,...].reshape(-1,ndim)\n",
    "fig,(ax1, ax2) = plt.subplots(1, 2, figsize=(12,4))\n",
    "ax1.plot(prop_T0chain[:,0], '-', color='k', alpha=0.3)\n",
    "ax1.axhline(y=true_param[0][0], color='blue')\n",
    "ax1.title.set_text('theta1')\n",
    "\n",
    "ax2.plot(prop_T0chain[:,1], '-', color='k', alpha=0.3)\n",
    "ax2.axhline(y=true_param[0][1], color='blue')\n",
    "ax2.title.set_text('theta2')\n",
    "plt.show()\n",
    "\n",
    "tmp = corner.corner(prop_T0chain, labels=['theta1','theta2'], \n",
    "                truths=[true_param[0][0],true_param[0][1]])\n",
    "\n",
    "MCMC_sim = pd.DataFrame(prop_T0chain)\n",
    "MCMC_sim.to_csv('Outputs/Trento_2d_MCMCRanjan2016_init'+str(n_init)+'_seq'+str(n_total-n_init)+'.csv', index=False)"
   ]
  },
  {
   "cell_type": "markdown",
   "id": "located-walker",
   "metadata": {},
   "source": [
    "### Random LHD:"
   ]
  },
  {
   "cell_type": "code",
   "execution_count": 28,
   "id": "killing-retrieval",
   "metadata": {},
   "outputs": [],
   "source": [
    "n_total = 5"
   ]
  },
  {
   "cell_type": "code",
   "execution_count": 29,
   "id": "disciplinary-charles",
   "metadata": {},
   "outputs": [
    {
     "name": "stderr",
     "output_type": "stream",
     "text": [
      " /Users/dananjayaliyanage/miniconda3/envs/parton_loss/lib/python3.6/site-packages/GPy/kern/src/stationary.py:243: RuntimeWarning:invalid value encountered in true_divide\n",
      " /Users/dananjayaliyanage/miniconda3/envs/parton_loss/lib/python3.6/site-packages/GPy/kern/src/stationary.py:144: RuntimeWarning:overflow encountered in square\n",
      " /Users/dananjayaliyanage/miniconda3/envs/parton_loss/lib/python3.6/site-packages/GPy/kern/src/stationary.py:145: RuntimeWarning:overflow encountered in square\n",
      " /Users/dananjayaliyanage/miniconda3/envs/parton_loss/lib/python3.6/site-packages/GPy/kern/src/stationary.py:146: RuntimeWarning:invalid value encountered in add\n"
     ]
    },
    {
     "name": "stdout",
     "output_type": "stream",
     "text": [
      "Warning - optimization restart 1/20 failed\n",
      "Optimization restart 2/20, f = 82.87550407415436\n",
      "Optimization restart 3/20, f = 117.9136455566956\n",
      "Optimization restart 4/20, f = 79.71300634061541\n",
      "Optimization restart 5/20, f = 500.6949102865947\n"
     ]
    },
    {
     "name": "stderr",
     "output_type": "stream",
     "text": [
      " /Users/dananjayaliyanage/miniconda3/envs/parton_loss/lib/python3.6/site-packages/GPy/kern/src/stationary.py:165: RuntimeWarning:overflow encountered in true_divide\n",
      " /Users/dananjayaliyanage/miniconda3/envs/parton_loss/lib/python3.6/site-packages/GPy/kern/src/stationary.py:166: RuntimeWarning:overflow encountered in true_divide\n"
     ]
    },
    {
     "name": "stdout",
     "output_type": "stream",
     "text": [
      "Optimization restart 6/20, f = 61.27233670979828\n",
      "Optimization restart 7/20, f = 154.328029560071\n",
      "Optimization restart 8/20, f = 2592.7587175916624\n",
      "Optimization restart 9/20, f = 203.4098014230211\n",
      "Optimization restart 10/20, f = 77.28373342917146\n",
      "Optimization restart 11/20, f = 4538.296963328843\n",
      "Optimization restart 12/20, f = 41.33195722482246\n",
      "Optimization restart 13/20, f = 117.83058156026159\n",
      "Optimization restart 14/20, f = 8419.288101816595\n",
      "Optimization restart 15/20, f = 80.50694273355012\n",
      "Optimization restart 16/20, f = 343.03424519472503\n",
      "Warning - optimization restart 17/20 failed\n",
      "Warning - optimization restart 18/20 failed\n",
      "Optimization restart 19/20, f = 174.21067156871206\n",
      "Optimization restart 20/20, f = 2959.746671605258\n"
     ]
    },
    {
     "name": "stderr",
     "output_type": "stream",
     "text": [
      " /Users/dananjayaliyanage/miniconda3/envs/parton_loss/lib/python3.6/site-packages/ptemcee/util.py:43: FutureWarning:Using a non-tuple sequence for multidimensional indexing is deprecated; use `arr[tuple(seq)]` instead of `arr[seq]`. In the future this will be interpreted as an array index, `arr[np.array(seq)]`, which will result either in an error or a different result.\n",
      " /Users/dananjayaliyanage/miniconda3/envs/parton_loss/lib/python3.6/site-packages/ptemcee/util.py:45: FutureWarning:Using a non-tuple sequence for multidimensional indexing is deprecated; use `arr[tuple(seq)]` instead of `arr[seq]`. In the future this will be interpreted as an array index, `arr[np.array(seq)]`, which will result either in an error or a different result.\n",
      " /Users/dananjayaliyanage/miniconda3/envs/parton_loss/lib/python3.6/site-packages/ptemcee/util.py:80: FutureWarning:Using a non-tuple sequence for multidimensional indexing is deprecated; use `arr[tuple(seq)]` instead of `arr[seq]`. In the future this will be interpreted as an array index, `arr[np.array(seq)]`, which will result either in an error or a different result.\n"
     ]
    },
    {
     "data": {
      "image/png": "[encoded data removed]",
      "text/plain": [
       "<Figure size 864x288 with 2 Axes>"
      ]
     },
     "metadata": {
      "needs_background": "light"
     },
     "output_type": "display_data"
    },
    {
     "data": {
      "image/png": "[encoded data removed]",
      "text/plain": [
       "<Figure size 396x396 with 4 Axes>"
      ]
     },
     "metadata": {
      "needs_background": "light"
     },
     "output_type": "display_data"
    }
   ],
   "source": [
    "x_ref = lhs(n=2, samples=n_total) # no criterion specified: random design\n",
    "x_ref[:,0] = x_ref[:,0]*20 + 10\n",
    "x_ref[:,1] = x_ref[:,1]*2 - 1\n",
    "y_ref = simulation_parallel(x_ref)\n",
    "\n",
    "# train GP\n",
    "kernel1 = RBF(input_dim=2, ARD=True)\n",
    "kernel2 = RBF(input_dim=2, ARD=True)\n",
    "model_gpy = MultioutputGP([x_ref,x_ref],[y_ref[:,0].reshape(-1,1),y_ref[:,1].reshape(-1,1)],\n",
    "                          likelihood_list=[likelihoods.Gaussian(),likelihoods.Gaussian()],\n",
    "                          kernel_list=[kernel1,kernel2])\n",
    "model_ref = GPyMultiOutputWrapper(model_gpy, n_outputs=2, n_optimization_restarts=20)\n",
    "model_ref.optimize()\n",
    "\n",
    "def emu_ref_predict(xx, obsno):\n",
    "    \"\"\"This function handles the scaling and GP interpolation together, \n",
    "    returning our prediction in the ordinary observable space\n",
    "    rather than the scaled observable space.\n",
    "    This map is what we call our 'emulator'. \"\"\"\n",
    "    X = xx.reshape(-1, ndim)\n",
    "    new_column = [[obsno]]*len(X)\n",
    "    pred_temp = model_ref.predict(np.append(X,new_column,axis=1))\n",
    "    y = pred_temp[0] # vector of predictive means\n",
    "    s2_vec = pred_temp[1]\n",
    "    dy = np.sqrt(s2_vec)\n",
    "    return y, dy\n",
    "\n",
    "# define log likelihood\n",
    "def log_likelihood_ref(theta, y_exp, dy_exp):\n",
    "    '''\n",
    "    Log-likelihood for data y_exp.\n",
    "    theta: 2d vector;\n",
    "    y_exp: n_exp by 2;\n",
    "    dy_exp: 2d vector (experimental noise is the same for different observations).\n",
    "    '''\n",
    "    #use our GP emulator for prediction\n",
    "    log_lik = 0\n",
    "    for obs in range(y_exp.shape[1]): # number of observables\n",
    "        y_pred, s_pred = emu_predict(theta, obs) # emulator prediction and uncertainty\n",
    "        sigma2 = dy_exp[obs]**2. + s_pred**2. # emulator uncertainty\n",
    "        log_lik = log_lik - 0.5*np.log(2.*np.pi*sigma2) - 0.5/sigma2 * np.sum((y_pred - y_exp[:,obs])**2)    \n",
    "    return log_lik\n",
    "\n",
    "#posterior using flat prior\n",
    "def log_posterior_flat_prior_ref(theta, y_exp, dy_exp):\n",
    "    '''Log posterior for data y_exp and uncertainties \n",
    "        dy_exp given parameter array theta, assuming prior is flat.'''\n",
    "    return log_flat_prior(theta) + log_likelihood_ref(theta, y_exp, dy_exp)\n",
    "\n",
    "\n",
    "# ptemcee\n",
    "# https://emcee.readthedocs.io/en/develop/user/pt/\n",
    "ntemps = 2\n",
    "nwalkers = 20\n",
    "# starting_guesses = np.ones(ntemps*nwalkers*ndim).reshape(ntemps,nwalkers,ndim)*0.5 + np.random.rand(ntemps,nwalkers,ndim) * 0.1\n",
    "starting_guesses = np.random.uniform(low=lb,high=ub,size=(ntemps,nwalkers,ndim))\n",
    "sampler = PTSampler(nwalkers, ndim, log_likelihood_ref, log_flat_prior, ntemps=ntemps, loglargs=[y_exp, dy_exp],\n",
    "                   threads=8)\n",
    "\n",
    "# burn in\n",
    "for p, lnprob, lnlike in sampler.sample(starting_guesses, iterations=1000):\n",
    "    pass\n",
    "sampler.reset()\n",
    "\n",
    "# record every 10\n",
    "for p, lnprob, lnlike in sampler.sample(p, iterations=1000, thin=10):\n",
    "    pass\n",
    "\n",
    "# resulting chains\n",
    "assert sampler.chain.shape == (ntemps, nwalkers, 100, ndim)\n",
    "\n",
    "# Chain has shape (ntemps, nwalkers, nsteps, ndim)\n",
    "# Zero temperature mean:\n",
    "mu0 = np.mean(np.mean(sampler.chain[0,...], axis=0), axis=0)\n",
    "\n",
    "# Longest autocorrelation length (over any temperature)\n",
    "max_acl = np.max(sampler.acor)\n",
    "\n",
    "\n",
    "# plots & save data for R analysis\n",
    "LHD_T0chain = sampler.chain[0,...].reshape(-1,ndim)\n",
    "fig,(ax1, ax2) = plt.subplots(1, 2, figsize=(12,4))\n",
    "ax1.plot(LHD_T0chain[:,0], '-', color='k', alpha=0.3)\n",
    "ax1.axhline(y=true_param[0][0], color='blue')\n",
    "ax1.title.set_text('theta1')\n",
    "\n",
    "ax2.plot(LHD_T0chain[:,1], '-', color='k', alpha=0.3)\n",
    "ax2.axhline(y=true_param[0][1], color='blue')\n",
    "ax2.title.set_text('theta2')\n",
    "plt.show()\n",
    "\n",
    "tmp = corner.corner(LHD_T0chain, labels=['theta1','theta2'], \n",
    "                truths=[true_param[0][0],true_param[0][1]])\n",
    "\n",
    "MCMC_LHD = pd.DataFrame(LHD_T0chain)\n",
    "#MCMC_LHD.to_csv('Outputs/Trento_2d_MCMCLHD_total'+str(n_total)+'.csv', index=False)"
   ]
  },
  {
   "cell_type": "code",
   "execution_count": null,
   "id": "unlimited-great",
   "metadata": {},
   "outputs": [],
   "source": []
  }
 ],
 "metadata": {
  "kernelspec": {
   "display_name": "Python 3",
   "language": "python",
   "name": "python3"
  },
  "language_info": {
   "codemirror_mode": {
    "name": "ipython",
    "version": 3
   },
   "file_extension": ".py",
   "mimetype": "text/x-python",
   "name": "python",
   "nbconvert_exporter": "python",
   "pygments_lexer": "ipython3",
   "version": "3.6.13"
  }
 },
 "nbformat": 4,
 "nbformat_minor": 5
}
